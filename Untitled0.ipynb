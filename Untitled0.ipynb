{
  "nbformat": 4,
  "nbformat_minor": 0,
  "metadata": {
    "colab": {
      "provenance": [],
      "authorship_tag": "ABX9TyNJOT4IT33HJPM/gFTQFELW",
      "include_colab_link": true
    },
    "kernelspec": {
      "name": "python3",
      "display_name": "Python 3"
    },
    "language_info": {
      "name": "python"
    }
  },
  "cells": [
    {
      "cell_type": "markdown",
      "metadata": {
        "id": "view-in-github",
        "colab_type": "text"
      },
      "source": [
        "<a href=\"https://colab.research.google.com/github/saitejaswini03/ProjectT/blob/main/Untitled0.ipynb\" target=\"_parent\"><img src=\"https://colab.research.google.com/assets/colab-badge.svg\" alt=\"Open In Colab\"/></a>"
      ]
    },
    {
      "cell_type": "code",
      "execution_count": null,
      "metadata": {
        "colab": {
          "base_uri": "https://localhost:8080/"
        },
        "id": "vUCv1L32GAYh",
        "outputId": "baf05486-0d20-45fc-9009-3faefb2cabdc"
      },
      "outputs": [
        {
          "output_type": "stream",
          "name": "stdout",
          "text": [
            "-1001\n",
            "2\n"
          ]
        }
      ],
      "source": [
        "'''\n",
        "a=int(input())\n",
        "a=abs(a)\n",
        "f=a//1000\n",
        "l=a%10\n",
        "print(f+1)\n",
        "'''"
      ]
    },
    {
      "cell_type": "code",
      "source": [
        "'''\n",
        "rs=int(input())\n",
        "cs=int(input())\n",
        "tn=int(input())\n",
        "if(tn<=rs*cs):\n",
        "  if(tn<=cs or tn%cs==1 or tn%cs==0):\n",
        "    print(\"yes it is a mango tree\")\n",
        "  else:\n",
        "    print(\"it is not a mango tree\")\n",
        "else:\n",
        "  print(\"invalid tree no \")\n",
        "'''"
      ],
      "metadata": {
        "colab": {
          "base_uri": "https://localhost:8080/"
        },
        "id": "Rwd63QmjGFOK",
        "outputId": "478440c5-1131-4e2e-e896-6c24d10bde59"
      },
      "execution_count": null,
      "outputs": [
        {
          "output_type": "stream",
          "name": "stdout",
          "text": [
            "5\n",
            "9\n",
            "14\n",
            "it is not a mango tree\n"
          ]
        }
      ]
    },
    {
      "cell_type": "code",
      "source": [
        "'''\n",
        "a=int(input())\n",
        "b=int(input())\n",
        "c=int(input())\n",
        "if(a<=b*c):\n",
        "  if(a<=b):\n",
        "    print(\"yes it is a mango tree\")\n",
        "  else:\n",
        "    print(\"no it is not a mango tree\")\n",
        "  if(b<=c):\n",
        "    print(\"yes it is a mango tree\")\n",
        "  else:\n",
        "    print(\"no it is not a mango tree\")\n",
        "  if(c<=a):\n",
        "    print(\"yes it is a mango tree\")\n",
        "  else:\n",
        "    print(\"invalid tree no\")\n",
        "'''\n",
        "\n"
      ],
      "metadata": {
        "colab": {
          "base_uri": "https://localhost:8080/"
        },
        "id": "ORJcAdwQMU31",
        "outputId": "c8dfd7f7-1d2c-41bd-e386-1802932a028e"
      },
      "execution_count": null,
      "outputs": [
        {
          "output_type": "stream",
          "name": "stdout",
          "text": [
            "5\n",
            "5\n",
            "2\n",
            "yes it is a mango tree\n",
            "no it is not a mango tree\n",
            "yes it is a mango tree\n"
          ]
        }
      ]
    },
    {
      "cell_type": "markdown",
      "source": [
        "print a linkedlist in a sequence order"
      ],
      "metadata": {
        "id": "OhtIg2X2Mecv"
      }
    },
    {
      "cell_type": "code",
      "source": [
        "'''\n",
        "class Node:\n",
        "  def __init__(self,data):\n",
        "    self.data=data\n",
        "    self.next=None\n",
        "class linkedlist:\n",
        "  def __init__(self):\n",
        "    self.head=None\n",
        "  def insert(self,data):\n",
        "    if self.head is None:\n",
        "      self.head=Node(data)\n",
        "      return\n",
        "    else:\n",
        "      new_node=Node(data)\n",
        "      currn=self.head\n",
        "      while currn.next:\n",
        "        currn=currn.next\n",
        "      currn.next=new_node\n",
        "  def printlinkedlist(self):\n",
        "    currn=self.head\n",
        "    while (currn):\n",
        "      print(currn.data,end=\"->\")\n",
        "      currn=currn.next\n",
        "    print(\"none\")\n",
        "\n",
        "obj=linkedlist()\n",
        "while(1):\n",
        "  a=int(input())\n",
        "  if a==-1:\n",
        "      break\n",
        "  obj.insert(a)\n",
        "obj.printlinkedlist()\n",
        "'''"
      ],
      "metadata": {
        "colab": {
          "base_uri": "https://localhost:8080/"
        },
        "id": "zXRvostfMUVs",
        "outputId": "0db8e59d-b390-4803-9432-e5b5a50cf027"
      },
      "execution_count": null,
      "outputs": [
        {
          "output_type": "stream",
          "name": "stdout",
          "text": [
            "10\n",
            "20\n",
            "0\n",
            "32\n",
            "-1\n",
            "10->20->0->32->none\n"
          ]
        }
      ]
    },
    {
      "cell_type": "markdown",
      "source": [
        "create a linkedlist"
      ],
      "metadata": {
        "id": "RPbfdlrZMUFr"
      }
    },
    {
      "cell_type": "code",
      "source": [
        "'''\n",
        "class Node:\n",
        "  def __init__(self,data):\n",
        "    self.data=data\n",
        "    self.next=None\n",
        "class linkedlist:\n",
        "  def __init__(self):\n",
        "    self.head=None\n",
        "  def insert_at_begin(self,data):\n",
        "    new_node=Node(data)\n",
        "    new_node.next=self.head\n",
        "    self.head=new_node\n",
        "  def insert(self,data):\n",
        "    if self.head is None:\n",
        "      self.head=Node(data)\n",
        "      return\n",
        "    else:\n",
        "      new_node=Node(data)\n",
        "      currn=self.head\n",
        "      while currn.next:\n",
        "        currn=currn.next\n",
        "      currn.next=new_node\n",
        "  def printlinkedlist(self):\n",
        "    currn=self.head\n",
        "    while (currn):\n",
        "      print(currn.data,end=\"->\")\n",
        "      currn=currn.next\n",
        "    print(\"none\")\n",
        "\n",
        "obj=linkedlist()\n",
        "while(1):\n",
        "  a=int(input())\n",
        "  if a==-1:\n",
        "      break\n",
        "  obj.insert(a)\n",
        "obj.printlinkedlist()\n",
        "obj.insert_at_begin(10)\n",
        "obj.printlinkedlist()\n",
        "'''"
      ],
      "metadata": {
        "colab": {
          "base_uri": "https://localhost:8080/"
        },
        "id": "3thXtXbXa-uw",
        "outputId": "669d0711-ad36-4e59-a305-90ded50d58bb"
      },
      "execution_count": null,
      "outputs": [
        {
          "output_type": "stream",
          "name": "stdout",
          "text": [
            "20\n",
            "30\n",
            "15\n",
            "-1\n",
            "20->30->15->none\n",
            "10->20->30->15->none\n"
          ]
        }
      ]
    },
    {
      "cell_type": "markdown",
      "source": [
        "insert the linkedlist at a particular position"
      ],
      "metadata": {
        "id": "bqwqT1GYMMXL"
      }
    },
    {
      "cell_type": "code",
      "source": [
        "'''\n",
        "class Node:\n",
        "  def __init__(self, data):\n",
        "    self.data = data\n",
        "    self.next = None\n",
        "\n",
        "class linkedlist:\n",
        "  def __init__(self):\n",
        "    self.head = None\n",
        "\n",
        "  def insert_at_begin(self, data):\n",
        "    new_node = Node(data)\n",
        "    new_node.next = self.head\n",
        "    self.head = new_node\n",
        "\n",
        "  def insert(self, data):\n",
        "    if self.head is None:\n",
        "      self.head = Node(data)\n",
        "      return\n",
        "    else:\n",
        "      new_node = Node(data)\n",
        "      currn = self.head\n",
        "      while currn.next:\n",
        "        currn = currn.next\n",
        "      currn.next = new_node\n",
        "\n",
        "  def insert_at_position(self, data, position):\n",
        "    if position == 0:\n",
        "      self.insert_at_begin(data)\n",
        "      return\n",
        "\n",
        "    new_node = Node(data)\n",
        "    currn = self.head\n",
        "    count = 0\n",
        "    while currn and count < position - 1:\n",
        "      currn = currn.next\n",
        "      count += 1\n",
        "\n",
        "    if currn is None:\n",
        "      self.insert(data)\n",
        "      return\n",
        "\n",
        "    new_node.next = currn.next\n",
        "    currn.next = new_node\n",
        "  def printlinkedlist(self):\n",
        "    currn = self.head\n",
        "    while currn:\n",
        "      print(currn.data, end=\"->\")\n",
        "      currn = currn.next\n",
        "    print(\"none\")\n",
        "\n",
        "obj = linkedlist()\n",
        "while True:\n",
        "  a = int(input())\n",
        "  if a == -1:\n",
        "    break\n",
        "  obj.insert(a)\n",
        "\n",
        "obj.printlinkedlist()\n",
        "obj.insert_at_position(15, 2)\n",
        "obj.printlinkedlist()\n",
        "'''"
      ],
      "metadata": {
        "colab": {
          "base_uri": "https://localhost:8080/"
        },
        "id": "mxKU-0eza_Kx",
        "outputId": "5aa976d6-29c2-4d3e-ba05-1488f22039f0"
      },
      "execution_count": null,
      "outputs": [
        {
          "output_type": "stream",
          "name": "stdout",
          "text": [
            "56\n",
            "55\n",
            "58\n",
            "45\n",
            "-1\n",
            "56->55->58->45->none\n",
            "56->55->15->58->45->none\n"
          ]
        }
      ]
    },
    {
      "cell_type": "markdown",
      "source": [],
      "metadata": {
        "id": "YlghqNopSC8S"
      }
    },
    {
      "cell_type": "markdown",
      "source": [
        "delete the linked list at beginging position\n"
      ],
      "metadata": {
        "id": "EbHLJxItMDmK"
      }
    },
    {
      "cell_type": "code",
      "source": [
        "'''\n",
        "class Node:\n",
        "    def __init__(self, data):\n",
        "        self.data = data\n",
        "        self.next = None\n",
        "\n",
        "class linkedlist:\n",
        "    def __init__(self):\n",
        "        self.head = None\n",
        "\n",
        "    def delete_at_begin(self):\n",
        "        if self.head is None:\n",
        "            return\n",
        "        self.head = self.head.next\n",
        "\n",
        "    def insert(self, data):\n",
        "        if self.head is None:\n",
        "            self.head = Node(data)\n",
        "            return\n",
        "        else:\n",
        "            new_node = Node(data)\n",
        "            currn = self.head\n",
        "            while currn.next:\n",
        "                currn = currn.next\n",
        "            currn.next = new_node\n",
        "\n",
        "    def insert_at_position(self, data, position):\n",
        "        if position == 0:\n",
        "            self.delete_at_begin()\n",
        "            return\n",
        "\n",
        "        new_node = Node(data)\n",
        "        currn = self.head\n",
        "        count = 0\n",
        "        while currn and count < position - 1:\n",
        "            currn = currn.next\n",
        "            count += 1\n",
        "\n",
        "        if currn is None:\n",
        "            self.insert(data)\n",
        "            return\n",
        "\n",
        "        new_node.next = currn.next\n",
        "        currn.next = new_node\n",
        "\n",
        "    def delete_at_position(self, position):\n",
        "        if self.head is None:\n",
        "            return\n",
        "\n",
        "        if position == 0:\n",
        "            self.head = self.head.next\n",
        "            return\n",
        "\n",
        "        currn = self.head\n",
        "        count = 0\n",
        "        while currn.next and count < position - 1:\n",
        "            currn = currn.next\n",
        "            count += 1\n",
        "\n",
        "        if currn.next is None:\n",
        "            return\n",
        "\n",
        "        currn.next = currn.next.next\n",
        "\n",
        "\n",
        "    def printlinkedlist(self):\n",
        "        currn = self.head\n",
        "        while currn:\n",
        "            print(currn.data, end=\"->\")\n",
        "            currn = currn.next\n",
        "        print(\"none\")\n",
        "\n",
        "obj = linkedlist()\n",
        "while True:\n",
        "    a = int(input())\n",
        "    if a == -1:\n",
        "        break\n",
        "    obj.insert(a)\n",
        "\n",
        "obj.printlinkedlist()\n",
        "obj.delete_at_position(2)\n",
        "obj.printlinkedlist()\n",
        "'''"
      ],
      "metadata": {
        "colab": {
          "base_uri": "https://localhost:8080/"
        },
        "id": "39vALs1zynhU",
        "outputId": "7f4e10c3-ec08-4d97-82c3-2ec6be93d44f"
      },
      "execution_count": null,
      "outputs": [
        {
          "output_type": "stream",
          "name": "stdout",
          "text": [
            "52\n",
            "23\n",
            "22\n",
            "63\n",
            "4\n",
            "-1\n",
            "52->23->22->63->4->none\n",
            "52->23->63->4->none\n"
          ]
        }
      ]
    },
    {
      "cell_type": "markdown",
      "source": [
        "update the linkedlist in data structures using python"
      ],
      "metadata": {
        "id": "fIrE0JaVQFG7"
      }
    },
    {
      "cell_type": "code",
      "source": [
        "'''\n",
        "class Node:\n",
        "    def __init__(self, data):\n",
        "        self.data = data\n",
        "        self.next = None\n",
        "\n",
        "class linkedlist:\n",
        "    def __init__(self):\n",
        "        self.head = None\n",
        "    def insert(self, data):\n",
        "        if self.head is None:\n",
        "            self.head = Node(data)\n",
        "            return\n",
        "        else:\n",
        "            new_node = Node(data)\n",
        "            currn = self.head\n",
        "            while currn.next:\n",
        "                currn = currn.next\n",
        "            currn.next = new_node\n",
        "    def update_node(self,val,ind):\n",
        "      curnn=self.head\n",
        "      pos=0\n",
        "      if pos==ind:\n",
        "        curnn.data=val\n",
        "        return\n",
        "      currn=self.head\n",
        "      while (currn!=None and pos!=ind):\n",
        "          pos+=1\n",
        "          currn=currn.next\n",
        "      if curnn!=None:\n",
        "        currn.data=val\n",
        "      else:\n",
        "        print(\"index not found\")\n",
        "    def printlinkedlist(self):\n",
        "      currn = self.head\n",
        "      while (currn):\n",
        "        print(currn.data, end=\"->\")\n",
        "        currn = currn.next\n",
        "      print(\"none\")\n",
        "\n",
        "obj=linkedlist()\n",
        "while(1):\n",
        "  a=int(input())\n",
        "  if a==-1:\n",
        "      break\n",
        "  obj.insert(a)\n",
        "\n",
        "obj.printlinkedlist()\n",
        "obj.update_node(10,2)\n",
        "obj.printlinkedlist()\n",
        "'''"
      ],
      "metadata": {
        "id": "CFypf43gACbM",
        "colab": {
          "base_uri": "https://localhost:8080/"
        },
        "outputId": "a1d9ab8e-7843-4d10-f2f8-589d62f1fe16"
      },
      "execution_count": null,
      "outputs": [
        {
          "output_type": "stream",
          "name": "stdout",
          "text": [
            "10\n",
            "20\n",
            "30\n",
            "40\n",
            "-1\n",
            "10->20->30->40->none\n",
            "10->20->10->40->none\n"
          ]
        }
      ]
    },
    {
      "cell_type": "code",
      "source": [
        "'''\n",
        "class Node:\n",
        "    def __init__(self, data):\n",
        "        self.data = data\n",
        "        self.next = None\n",
        "\n",
        "class linkedlist:\n",
        "    def __init__(self):\n",
        "        self.head = None\n",
        "\n",
        "    def delete_at_begin(self):\n",
        "        if self.head is None:\n",
        "            return\n",
        "        self.head = self.head.next\n",
        "\n",
        "    def insert(self, data):\n",
        "        if self.head is None:\n",
        "            self.head = Node(data)\n",
        "            return\n",
        "        else:\n",
        "            new_node = Node(data)\n",
        "            currn = self.head\n",
        "            while currn.next:\n",
        "                currn = currn.next\n",
        "            currn.next = new_node\n",
        "\n",
        "    def insert_at_position(self, data, end):\n",
        "        if end == 0:\n",
        "            self.delete_at_end()\n",
        "            return\n",
        "\n",
        "        new_node = Node(data)\n",
        "        currn = self.head\n",
        "        count = 0\n",
        "        while currn and count < end - 1:\n",
        "            currn = currn.next\n",
        "            count += 1\n",
        "\n",
        "        if currn is None:\n",
        "            self.insert(data)\n",
        "            return\n",
        "\n",
        "        new_node.next = currn.next\n",
        "        currn.next = new_node\n",
        "\n",
        "    def delete_at_end(self, end):\n",
        "        if self.head is None:\n",
        "            return\n",
        "        if end == 0:\n",
        "            self.head = self.head.next\n",
        "            return\n",
        "\n",
        "        currn = self.head\n",
        "        while (currn.next.next):\n",
        "            currn = currn.next\n",
        "        currn.next = None\n",
        "\n",
        "\n",
        "\n",
        "\n",
        "    def printlinkedlist(self):\n",
        "        currn = self.head\n",
        "        while currn:\n",
        "            print(currn.data, end=\"->\")\n",
        "            currn = currn.next\n",
        "        print(\"none\")\n",
        "\n",
        "obj = linkedlist()\n",
        "while True:\n",
        "    a = int(input())\n",
        "    if a == -1:\n",
        "        break\n",
        "    obj.insert(a)\n",
        "\n",
        "obj.printlinkedlist()\n",
        "obj.delete_at_begin()\n",
        "obj.printlinkedlist()\n",
        "obj.delete_at_end\n",
        "obj.printlinkedlist()\n"
      ],
      "metadata": {
        "colab": {
          "base_uri": "https://localhost:8080/"
        },
        "id": "Vz23J3AnKhzn",
        "outputId": "a6bc8c4c-1a83-4c86-d150-668fa9749002"
      },
      "execution_count": null,
      "outputs": [
        {
          "output_type": "stream",
          "name": "stdout",
          "text": [
            "23\n",
            "2\n",
            "3\n",
            "5\n",
            "96\n",
            "-1\n",
            "23->2->3->5->96->none\n",
            "2->3->5->96->none\n",
            "2->3->5->96->none\n"
          ]
        }
      ]
    },
    {
      "cell_type": "markdown",
      "source": [
        "'''ravi is crazy about cricket and he was watching mumbai indians vs chennai super kings final match\n",
        "mumbai own the toss and elected to bat first,they finished batting with the score of 'x'.Now chennai\n",
        "started to bat and score 'y' runs in no.of balls.ravi wants to calculate the run rate to check weather there is a\n",
        "probability for chennai to win or not.if there is a probability to win print eligible to win or else not eligible to win\n",
        "\n",
        "sample input: 300--> first input refers to total no.of balls in 1st winnings\n",
        "375-->second input refers to no.of runs scored in 1st winnings\n",
        "78-->no.of runs scored in ongoing match\n",
        "45-->no.of balls bowled\n",
        "\n",
        "sample output: 50--> total no.of overs in 1st winnings  \n",
        "7.3-->no.of overs completed in 2nd winnings\n",
        "10.7-->current run rate of 2nd winnings\n",
        "7.5-->total run rate of 1st winnings\n",
        "eligible to win'''"
      ],
      "metadata": {
        "id": "aPm77-5OqgJJ"
      }
    },
    {
      "cell_type": "code",
      "source": [
        "'''\n",
        "tb=int(input())\n",
        "ts=int(input())\n",
        "nbb=int(input())\n",
        "rss=int(input())\n",
        "to=tb//6\n",
        "co=(nbb//6)+(nbb%6)*0.1\n",
        "trr=ts/to\n",
        "crr=rss/to\n",
        "print(to)\n",
        "print(\"{:.1f}\",format(co))\n",
        "print(\"{:.1f}\",format(crr))\n",
        "print(\"{:.1f}\",format(trr))\n",
        "if crr>=trr:\n",
        "  print(\"eligible to win\")\n",
        "else:\n",
        "  print(\"not eligible to win\")\n",
        "'''"
      ],
      "metadata": {
        "colab": {
          "base_uri": "https://localhost:8080/"
        },
        "id": "_-d3xkq_hCVh",
        "outputId": "29830451-249a-4021-b697-e6da42fc7799"
      },
      "execution_count": null,
      "outputs": [
        {
          "output_type": "stream",
          "name": "stdout",
          "text": [
            "300\n",
            "375\n",
            "78\n",
            "45\n",
            "50\n",
            "{:.1f} 13.0\n",
            "{:.1f} 0.9\n",
            "{:.1f} 7.5\n",
            "not eligible to win\n"
          ]
        }
      ]
    },
    {
      "cell_type": "markdown",
      "source": [
        "doubly linked list using python ds"
      ],
      "metadata": {
        "id": "U09IDnFwrhv-"
      }
    },
    {
      "cell_type": "code",
      "source": [
        "'''\n",
        "class node:\n",
        "  def __init__(self,data):\n",
        "    self.prev=None\n",
        "    self.data=data\n",
        "    self.next=None\n",
        "class doubly_linkedlist:\n",
        "  def __init__(self):\n",
        "    self.head=None\n",
        "  def insert(self,data):\n",
        "    new_node=node(data)\n",
        "    if self.head is None:\n",
        "        self.head=new_node\n",
        "        return\n",
        "    last=self.head\n",
        "    while(last.next):\n",
        "\n",
        "      last = last.next\n",
        "    last.next=new_node\n",
        "    new_node.prev=last\n",
        "  def printlinkedlist(self):\n",
        "    if self.head is None:\n",
        "      print(\" list is empty\")\n",
        "      return\n",
        "    currn=self.head\n",
        "    while (currn):\n",
        "\n",
        "      print(currn.data,end=\"->\")\n",
        "      currn=currn.next\n",
        "    print(\"None\")\n",
        "\n",
        "obj=doubly_linkedlist()\n",
        "while(1):\n",
        "  a=int(input())\n",
        "  if a==-1:\n",
        "      break\n",
        "  obj.insert(a)\n",
        "obj.printlinkedlist()\n",
        "'''"
      ],
      "metadata": {
        "colab": {
          "base_uri": "https://localhost:8080/"
        },
        "id": "KwSrsRR8nUD4",
        "outputId": "484f1f7a-38f6-4cef-c87e-7a7b5b93a4a3"
      },
      "execution_count": null,
      "outputs": [
        {
          "output_type": "stream",
          "name": "stdout",
          "text": [
            "23\n",
            "56\n",
            "22\n",
            "26\n",
            "56\n",
            "-1\n",
            "23->56->22->26->56->None\n"
          ]
        }
      ]
    },
    {
      "cell_type": "code",
      "source": [
        "'''\n",
        "class node:\n",
        "  def __init__(self,data):\n",
        "    self.prev=None\n",
        "    self.data=data\n",
        "    self.next=None\n",
        "class doubly_linkedlist:\n",
        "  def __init__(self):\n",
        "    self.head=None\n",
        "  def insert(self, data):\n",
        "    new_node = node(data)\n",
        "    if self.head is None:\n",
        "        self.head = new_node\n",
        "        return\n",
        "    last = self.head\n",
        "    while last.next:\n",
        "      last = last.next\n",
        "    last.next = new_node\n",
        "    new_node.prev = last\n",
        "  def print_reverse(self):\n",
        "    if self.head is None:\n",
        "      print(\"List is empty\")\n",
        "      return\n",
        "\n",
        "    currn = self.head\n",
        "    while currn.next:\n",
        "      currn = currn.next\n",
        "\n",
        "    while currn:\n",
        "      print(currn.data, end=\"<-\")\n",
        "      currn = currn.prev\n",
        "\n",
        "    print(\"None\")\n",
        "  def printlinkedlist(self):\n",
        "    if self.head is None:\n",
        "      print(\" list is empty\")\n",
        "      return\n",
        "    currn=self.head\n",
        "    while (currn):\n",
        "\n",
        "      print(currn.data,end=\"->\")\n",
        "      currn=currn.next\n",
        "    print(\"None\")\n",
        "\n",
        "obj=doubly_linkedlist()\n",
        "while(1):\n",
        "  a=int(input())\n",
        "  if a==-1:\n",
        "      break\n",
        "  obj.insert(a)\n",
        "obj.printlinkedlist()\n",
        "'''"
      ],
      "metadata": {
        "colab": {
          "base_uri": "https://localhost:8080/"
        },
        "id": "vvR_3WCRvCt-",
        "outputId": "53539adc-c3eb-4ec4-d3f3-b9861b021d03"
      },
      "execution_count": null,
      "outputs": [
        {
          "output_type": "stream",
          "name": "stdout",
          "text": [
            "23\n",
            "56\n",
            "23\n",
            "55\n",
            "22\n",
            "-1\n",
            "23->56->23->55->22->None\n"
          ]
        }
      ]
    },
    {
      "cell_type": "markdown",
      "source": [
        "backward tracking in doubly linked list using python"
      ],
      "metadata": {
        "id": "07mcmuRN-3_G"
      }
    },
    {
      "cell_type": "code",
      "source": [
        "'''\n",
        "class node:\n",
        "  def __init__(self,data):\n",
        "    self.prev=None\n",
        "    self.data=data\n",
        "    self.next=None\n",
        "class doubly_linkedlist:\n",
        "  def __init__(self):\n",
        "    self.head=None\n",
        "  def insert(self, data):\n",
        "    new_node = node(data)\n",
        "    if self.head is None:\n",
        "        self.head = new_node\n",
        "        return\n",
        "    last = self.head\n",
        "    while last.next:\n",
        "      last = last.next\n",
        "    last.next = new_node\n",
        "    new_node.prev = last\n",
        "  def printdoublylinkedlist_backward(self):\n",
        "    if self.head is None:\n",
        "      print(\"List is empty\")\n",
        "      return\n",
        "\n",
        "    currn = self.head\n",
        "    while (currn.next):\n",
        "      currn = currn.next\n",
        "\n",
        "    while (currn):\n",
        "      print(currn.data, end=\"<-\")\n",
        "      currn = currn.prev\n",
        "\n",
        "    print(\"None\")\n",
        "  def printlinkedlist_forward(self):\n",
        "    if self.head is None:\n",
        "      print(\" list is empty\")\n",
        "      return\n",
        "    currn=self.head\n",
        "    while (currn):\n",
        "\n",
        "      print(currn.data,end=\"->\")\n",
        "      currn=currn.prev\n",
        "    print(\"None\")\n",
        "\n",
        "obj=doubly_linkedlist()\n",
        "while(1):\n",
        "  a=int(input())\n",
        "  if a==-1:\n",
        "      break\n",
        "  obj.insert(a)\n",
        "obj.printdoublylinkedlist_backward()\n",
        "'''"
      ],
      "metadata": {
        "colab": {
          "base_uri": "https://localhost:8080/"
        },
        "id": "u9dXcnMe6RKt",
        "outputId": "91625ad1-0457-4dcf-dd13-c44521a043fa"
      },
      "execution_count": null,
      "outputs": [
        {
          "output_type": "stream",
          "name": "stdout",
          "text": [
            "23\n",
            "56\n",
            "12\n",
            "55\n",
            "75\n",
            "-1\n",
            "75<-55<-12<-56<-23<-None\n"
          ]
        }
      ]
    },
    {
      "cell_type": "markdown",
      "source": [
        "backward updated doublylinkedlist using python"
      ],
      "metadata": {
        "id": "QEA7ODIfDEAh"
      }
    },
    {
      "cell_type": "code",
      "source": [
        "'''\n",
        "class node:\n",
        "    def __init__(self, data):\n",
        "        self.prev = None\n",
        "        self.data = data\n",
        "        self.next = None\n",
        "\n",
        "class doubly_linkedlist:\n",
        "    def __init__(self):\n",
        "        self.head = None\n",
        "\n",
        "    def insert(self, data):\n",
        "        new_node = node(data)\n",
        "        if self.head is None:\n",
        "            self.head = new_node\n",
        "            return\n",
        "        last = self.head\n",
        "        while last.next:\n",
        "            last = last.next\n",
        "        last.next = new_node\n",
        "        new_node.prev = last\n",
        "\n",
        "    def update_node(self, val, index):\n",
        "        currn = self.head\n",
        "        pos = 0\n",
        "        while currn and pos != index:\n",
        "            currn = currn.next\n",
        "            pos += 1\n",
        "\n",
        "        if currn:\n",
        "            currn.data = val\n",
        "        else:\n",
        "            print(\"Index not found\")\n",
        "\n",
        "    def printdoublylinkedlist_backward(self):\n",
        "        if self.head is None:\n",
        "            print(\"List is empty\")\n",
        "            return\n",
        "\n",
        "        currn = self.head\n",
        "        while currn.next:\n",
        "            currn = currn.next\n",
        "\n",
        "        while currn:\n",
        "            print(currn.data, end=\"<-\")\n",
        "            currn = currn.prev\n",
        "\n",
        "        print(\"None\")\n",
        "\n",
        "obj = doubly_linkedlist()\n",
        "while True:\n",
        "    a = int(input())\n",
        "    if a == -1:\n",
        "        break\n",
        "    obj.insert(a)\n",
        "\n",
        "print(\"Original list:\")\n",
        "obj.printdoublylinkedlist_backward()\n",
        "\n",
        "index_to_update = int(input(\"Enter index to update: \"))\n",
        "new_value = int(input(\"Enter new value: \"))\n",
        "obj.update_node(new_value, index_to_update)\n",
        "\n",
        "print(\"Updated list:\")\n",
        "obj.printdoublylinkedlist_backward()\n",
        "'''"
      ],
      "metadata": {
        "colab": {
          "base_uri": "https://localhost:8080/"
        },
        "id": "8sZtVGHV_eka",
        "outputId": "f5f4bfdf-51f5-45fd-be1f-e0cddc9ab5e2"
      },
      "execution_count": null,
      "outputs": [
        {
          "output_type": "stream",
          "name": "stdout",
          "text": [
            "22\n",
            "33\n",
            "45\n",
            "99\n",
            "10\n",
            "88\n",
            "-1\n",
            "Original list:\n",
            "88<-10<-99<-45<-33<-22<-None\n",
            "Enter index to update: 2\n",
            "Enter new value: 6\n",
            "Updated list:\n",
            "88<-10<-99<-6<-33<-22<-None\n"
          ]
        }
      ]
    },
    {
      "cell_type": "markdown",
      "source": [],
      "metadata": {
        "id": "Kax_Ios_DT6R"
      }
    },
    {
      "cell_type": "markdown",
      "source": [
        "forward updated doublylinkedlist using python"
      ],
      "metadata": {
        "id": "ZmwdKsi0DVlO"
      }
    },
    {
      "cell_type": "code",
      "source": [
        "'''\n",
        "class node:\n",
        "    def __init__(self, data):\n",
        "        self.prev = None\n",
        "        self.data = data\n",
        "        self.next = None\n",
        "\n",
        "class doubly_linkedlist:\n",
        "    def __init__(self):\n",
        "        self.head = None\n",
        "\n",
        "    def insert(self, data):\n",
        "        new_node = node(data)\n",
        "        if self.head is None:\n",
        "            self.head = new_node\n",
        "            return\n",
        "        last = self.head\n",
        "        while last.next:\n",
        "            last = last.next\n",
        "        last.next = new_node\n",
        "        new_node.prev = last\n",
        "\n",
        "    def update_node(self, val, index):\n",
        "        currn = self.head\n",
        "        pos = 0\n",
        "        while currn and pos != index:\n",
        "            currn = currn.next\n",
        "            pos += 1\n",
        "\n",
        "        if currn:\n",
        "            currn.data = val\n",
        "        else:\n",
        "            print(\"Index not found\")\n",
        "\n",
        "    def printdoublylinkedlist_forward(self):\n",
        "        if self.head is None:\n",
        "            print(\"List is empty\")\n",
        "            return\n",
        "\n",
        "        currn = self.head\n",
        "        while currn:\n",
        "\n",
        "            print(currn.data, end=\"->\")\n",
        "            currn = currn.next\n",
        "\n",
        "        print(\"None\")\n",
        "\n",
        "obj = doubly_linkedlist()\n",
        "while True:\n",
        "    a = int(input())\n",
        "    if a == -1:\n",
        "        break\n",
        "    obj.insert(a)\n",
        "\n",
        "print(\"Original list:\")\n",
        "obj.printdoublylinkedlist_forward()\n",
        "\n",
        "index_to_update = int(input(\"Enter index to update: \"))\n",
        "new_value = int(input(\"Enter new value: \"))\n",
        "obj.update_node(new_value, index_to_update)\n",
        "\n",
        "print(\"Updated list:\")\n",
        "obj.printdoublylinkedlist_forward()\n",
        "'''"
      ],
      "metadata": {
        "colab": {
          "base_uri": "https://localhost:8080/"
        },
        "id": "f4bzEBXUA7SF",
        "outputId": "281e4a53-0c3c-4e00-975a-9fd27c5a2e1b"
      },
      "execution_count": null,
      "outputs": [
        {
          "output_type": "stream",
          "name": "stdout",
          "text": [
            "56\n",
            "45\n",
            "9\n",
            "7\n",
            "22\n",
            "56\n",
            "-1\n",
            "Original list:\n",
            "56->45->9->7->22->56->None\n",
            "Enter index to update: 2\n",
            "Enter new value: 66\n",
            "Updated list:\n",
            "56->45->66->7->22->56->None\n"
          ]
        }
      ]
    },
    {
      "cell_type": "markdown",
      "source": [
        "\n",
        "\n",
        "\n",
        "# write a program to print weather the given number kapraker number or not. a number is said to be if sum of a square root number right side n digits+left side nor n-1 digits = given number input for exam 297 is 88209 . if we take Rs n digits+ls n-1 digits=297\n",
        "\n",
        "sample input: 2\n",
        "\n",
        "\n"
      ],
      "metadata": {
        "id": "73xGJENXLwx8"
      }
    },
    {
      "cell_type": "code",
      "source": [
        "'''\n",
        "n=int(input())\n",
        "sq=n*n\n",
        "temp=n\n",
        "c=0\n",
        "while(n>0):\n",
        "  n=n//10\n",
        "  c+=1\n",
        "p=math**(10,c)\n",
        "co=sq//p\n",
        "rem=sq%p\n",
        "if co+rem==temp:\n",
        "  print(\"kapraker number\")\n",
        "else:\n",
        "  print(\"not kapraker number\")\n",
        "'''\n"
      ],
      "metadata": {
        "id": "XoIqGxZ9ZQBj"
      },
      "execution_count": null,
      "outputs": []
    },
    {
      "cell_type": "markdown",
      "source": [
        "write a program to print trapezium pattren"
      ],
      "metadata": {
        "id": "pcRKUy-4T2T1"
      }
    },
    {
      "cell_type": "code",
      "source": [
        "'''\n",
        "n=int(input())\n",
        "s=1\n",
        "rt=n*n+1\n",
        "l=n\n",
        "for i in range(1,l+1):\n",
        "  for j in range(n,l+1):\n",
        "    print(\"\",end=\"*\")\n",
        "  for k in range(i,l+1):\n",
        "    print(s,end=\"*\")\n",
        "    rt+=1\n",
        "  print(rt)r\n",
        "  n-=1\n",
        "  rt=n*n+s\n",
        "'''\n",
        "\n"
      ],
      "metadata": {
        "colab": {
          "base_uri": "https://localhost:8080/"
        },
        "id": "1Wv8ZH2iTxKt",
        "outputId": "bea00613-0433-4f15-f51a-ae40791d6105"
      },
      "execution_count": null,
      "outputs": [
        {
          "output_type": "stream",
          "name": "stdout",
          "text": [
            "6\n",
            "*1*1*1*1*1*1*43\n",
            "**1*1*1*1*1*31\n",
            "***1*1*1*1*21\n",
            "****1*1*1*13\n",
            "*****1*1*7\n",
            "******1*3\n"
          ]
        }
      ]
    },
    {
      "cell_type": "markdown",
      "source": [],
      "metadata": {
        "id": "oKebORoljVNy"
      }
    },
    {
      "cell_type": "code",
      "source": [
        "n=int(input())\n",
        "if(n==0):\n",
        "  print(\"0\")\n",
        "elif n%9==0:\n",
        "  print(\"9\")\n",
        "else:\n",
        "  print(n%9)"
      ],
      "metadata": {
        "colab": {
          "base_uri": "https://localhost:8080/"
        },
        "id": "NhxIDiK0ip_1",
        "outputId": "4d7fa396-e8f1-4ee9-cdc3-ba078bc60cec"
      },
      "execution_count": null,
      "outputs": [
        {
          "output_type": "stream",
          "name": "stdout",
          "text": [
            "88\n",
            "7\n"
          ]
        }
      ]
    }
  ]
}